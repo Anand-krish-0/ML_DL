{
 "cells": [
  {
   "cell_type": "code",
   "execution_count": null,
   "metadata": {},
   "outputs": [],
   "source": [
    "import os\n",
    "import shutil\n",
    "\n",
    "def move_pdfs(source_folder, destination_folder):\n",
    "    # Ensure the source and destination folders exist\n",
    "    if not os.path.exists(source_folder):\n",
    "        print(f\"Source folder '{source_folder}' does not exist.\")\n",
    "        return\n",
    "    if not os.path.exists(destination_folder):\n",
    "        os.makedirs(destination_folder)\n",
    "\n",
    "    # Iterate through the directory tree\n",
    "    for root, dirs, files in os.walk(source_folder):\n",
    "        for file in files:\n",
    "            if file.lower().endswith('.pdf'):\n",
    "                source_path = os.path.join(root, file)\n",
    "                destination_path = os.path.join(destination_folder, file)\n",
    "\n",
    "                # Handle potential file name conflicts\n",
    "                i = 1\n",
    "                while os.path.exists(destination_path):\n",
    "                    file_name, file_extension = os.path.splitext(file)\n",
    "                    destination_path = os.path.join(\n",
    "                        destination_folder, f\"{file_name}_{i}{file_extension}\")\n",
    "                    i += 1\n",
    "\n",
    "                # Move the PDF file to the destination folder\n",
    "                shutil.move(source_path, destination_path)\n",
    "                print(f\"Moved '{file}' to '{destination_path}'\")\n",
    "\n",
    "# Example usage\n",
    "source_directory = r'C:\\Users\\hariharan.sivakumar\\Documents\\GitHub\\ML_DL_support\\The Data Science All Resources'\n",
    "destination_directory = r'C:\\Users\\hariharan.sivakumar\\Documents\\GitHub\\ML_DL_support\\pdf'\n",
    "\n",
    "move_pdfs(source_directory, destination_directory)\n"
   ]
  }
 ],
 "metadata": {
  "language_info": {
   "name": "python"
  }
 },
 "nbformat": 4,
 "nbformat_minor": 2
}
