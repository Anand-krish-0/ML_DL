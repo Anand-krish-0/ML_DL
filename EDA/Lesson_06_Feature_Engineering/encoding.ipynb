{
 "cells": [
  {
   "cell_type": "markdown",
   "metadata": {},
   "source": [
    "# Encoding"
   ]
  },
  {
   "cell_type": "markdown",
   "metadata": {},
   "source": [
    "Encoding refers to the process of converting categorical data into a numerical format that can be used for computational purposes. Categorical data represents qualitative variables with discrete categories or levels, such as colors, types of cars, or categories of products. However, most machine learning algorithms and statistical models require numerical input data."
   ]
  },
  {
   "cell_type": "markdown",
   "metadata": {},
   "source": [
    "## Label Encoding"
   ]
  },
  {
   "cell_type": "markdown",
   "metadata": {},
   "source": [
    "\n",
    "Description: Assigns a unique integer to each category.\n",
    "\n",
    "Limitations: May introduce ordinality where none exists, which could mislead models"
   ]
  },
  {
   "cell_type": "code",
   "execution_count": 1,
   "metadata": {},
   "outputs": [
    {
     "name": "stdout",
     "output_type": "stream",
     "text": [
      "[1 2 0 1 2]\n"
     ]
    }
   ],
   "source": [
    "from sklearn.preprocessing import LabelEncoder\n",
    "\n",
    "data = ['cat', 'dog', 'bird', 'cat', 'dog']\n",
    "encoder = LabelEncoder()\n",
    "encoded_data = encoder.fit_transform(data)\n",
    "print(encoded_data)  # Output: [0 1 2 0 1]\n"
   ]
  },
  {
   "cell_type": "markdown",
   "metadata": {},
   "source": [
    "## One-Hot Encoding"
   ]
  },
  {
   "cell_type": "markdown",
   "metadata": {},
   "source": [
    "Description: Converts categorical variables into binary vectors.\n",
    "\n",
    "Limitations: Can lead to a high-dimensional and sparse representation, which might be computationally expensive and prone to the curse of dimensionality."
   ]
  },
  {
   "cell_type": "code",
   "execution_count": 1,
   "metadata": {},
   "outputs": [
    {
     "name": "stdout",
     "output_type": "stream",
     "text": [
      "   fruit_apple  fruit_banana  fruit_orange\n",
      "0         True         False         False\n",
      "1        False         False          True\n",
      "2        False          True         False\n",
      "3         True         False         False\n"
     ]
    }
   ],
   "source": [
    "import pandas as pd\n",
    "\n",
    "# Sample categorical data\n",
    "\n",
    "data = {'fruit': ['apple', 'orange', 'banana', 'apple']}\n",
    "\n",
    "df = pd.DataFrame(data)\n",
    "\n",
    "# One Hot Encoding using Pandas get_dummies\n",
    "\n",
    "encoded_df = pd.get_dummies(df, columns=['fruit'],drop_first=False)\n",
    "\n",
    "print(encoded_df)"
   ]
  },
  {
   "cell_type": "markdown",
   "metadata": {},
   "source": [
    "# Dummy Encoding"
   ]
  },
  {
   "cell_type": "markdown",
   "metadata": {},
   "source": [
    "Description: Similar to one-hot encoding but avoids multicollinearity.\n",
    "\n",
    "Limitations: May not capture the entire variance in the data."
   ]
  },
  {
   "cell_type": "code",
   "execution_count": 15,
   "metadata": {},
   "outputs": [
    {
     "name": "stdout",
     "output_type": "stream",
     "text": [
      "   color_blue  color_green  color_red  color_vol\n",
      "0       False        False       True      False\n",
      "1        True        False      False      False\n",
      "2       False         True      False      False\n",
      "3       False        False       True      False\n",
      "4        True        False      False      False\n",
      "5       False        False      False       True\n"
     ]
    }
   ],
   "source": [
    "data = ['red', 'blue', 'green', 'red', 'blue',\"vol\"]\n",
    "encoded_data = pd.get_dummies(data, prefix='color')\n",
    "print(encoded_data)\n"
   ]
  },
  {
   "cell_type": "markdown",
   "metadata": {},
   "source": [
    "# Ordinal Encoding"
   ]
  },
  {
   "cell_type": "markdown",
   "metadata": {},
   "source": [
    "Description: Assigns integers based on an ordered rank.\n",
    "\n",
    "Limitations: Assumes a fixed and known order, which might not always be applicable."
   ]
  },
  {
   "cell_type": "code",
   "execution_count": 16,
   "metadata": {},
   "outputs": [
    {
     "name": "stdout",
     "output_type": "stream",
     "text": [
      "[1, 2, 3, 1, 2]\n"
     ]
    }
   ],
   "source": [
    "data = ['small', 'medium', 'large', 'small', 'medium']\n",
    "mapping = {'small': 1, 'medium': 2, 'large': 3}\n",
    "encoded_data = [mapping[val] for val in data]\n",
    "print(encoded_data)\n"
   ]
  },
  {
   "cell_type": "markdown",
   "metadata": {},
   "source": [
    "## Frequency Encoding"
   ]
  },
  {
   "cell_type": "markdown",
   "metadata": {},
   "source": [
    "Description: Encodes categories based on their frequency of occurrence.\n",
    "\n",
    "Limitations: Categories with the same frequency are indistinguishable."
   ]
  },
  {
   "cell_type": "code",
   "execution_count": 17,
   "metadata": {},
   "outputs": [
    {
     "name": "stdout",
     "output_type": "stream",
     "text": [
      "[0.4, 0.4, 0.2, 0.4, 0.4]\n"
     ]
    }
   ],
   "source": [
    "data = ['cat', 'dog', 'bird', 'cat', 'dog']\n",
    "freq_encoding = pd.Series(data).value_counts(normalize=True)\n",
    "encoded_data = [freq_encoding[val] for val in data]\n",
    "print(encoded_data)\n"
   ]
  },
  {
   "cell_type": "markdown",
   "metadata": {},
   "source": [
    "## Target Encoding"
   ]
  },
  {
   "cell_type": "markdown",
   "metadata": {},
   "source": [
    "\n",
    "Description: Encodes categories based on the mean or median of the target variable within each category.\n",
    "\n",
    "Limitations: Prone to overfitting, especially with smaller datasets."
   ]
  },
  {
   "cell_type": "code",
   "execution_count": 21,
   "metadata": {},
   "outputs": [],
   "source": [
    "#pip install category_encoders"
   ]
  },
  {
   "cell_type": "code",
   "execution_count": 20,
   "metadata": {},
   "outputs": [
    {
     "name": "stdout",
     "output_type": "stream",
     "text": [
      "          0\n",
      "0  0.585815\n",
      "1  0.585815\n",
      "2  0.652043\n",
      "3  0.585815\n",
      "4  0.585815\n"
     ]
    }
   ],
   "source": [
    "import category_encoders as ce\n",
    "\n",
    "data = ['cat', 'dog', 'bird', 'cat', 'dog']\n",
    "target = [1, 0, 1, 0, 1]\n",
    "encoder = ce.TargetEncoder()\n",
    "encoded_data = encoder.fit_transform(data, target)\n",
    "print(encoded_data)\n"
   ]
  },
  {
   "cell_type": "code",
   "execution_count": null,
   "metadata": {},
   "outputs": [],
   "source": []
  }
 ],
 "metadata": {
  "kernelspec": {
   "display_name": "Python 3",
   "language": "python",
   "name": "python3"
  },
  "language_info": {
   "codemirror_mode": {
    "name": "ipython",
    "version": 3
   },
   "file_extension": ".py",
   "mimetype": "text/x-python",
   "name": "python",
   "nbconvert_exporter": "python",
   "pygments_lexer": "ipython3",
   "version": "3.11.3"
  }
 },
 "nbformat": 4,
 "nbformat_minor": 2
}
