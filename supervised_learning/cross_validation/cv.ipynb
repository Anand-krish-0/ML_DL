{
 "cells": [
  {
   "cell_type": "markdown",
   "metadata": {},
   "source": [
    "# Cross-validation"
   ]
  },
  {
   "cell_type": "markdown",
   "metadata": {},
   "source": [
    "Cross-validation is a fundamental technique used in machine learning to evaluate the performance of a predictive model. It's particularly crucial when you have a limited amount of data and want to make the most out of it.\n",
    "\n",
    "Cross-validation is a resampling technique used to evaluate machine learning models on a limited data sample. It involves partitioning the dataset into subsets, training the model on some of these subsets, and evaluating it on the remaining subset(s). This process is repeated multiple times, with each subset serving as both a training set and a validation set in different iterations."
   ]
  },
  {
   "cell_type": "markdown",
   "metadata": {},
   "source": [
    "## Why Cross-Validation?"
   ]
  },
  {
   "cell_type": "markdown",
   "metadata": {},
   "source": [
    "Cross-validation provides a more reliable estimate of model performance compared to simply splitting the data into a training and a testing set. It helps in:\n",
    "\n",
    "\n"
   ]
  },
  {
   "cell_type": "markdown",
   "metadata": {},
   "source": [
    "Reducing Overfitting: By repeatedly fitting the model on different subsets of the data, cross-validation helps in capturing the underlying structure of the data without overfitting to any particular subset."
   ]
  },
  {
   "cell_type": "markdown",
   "metadata": {},
   "source": [
    "\n",
    "Better Generalization: It provides a more accurate estimate of how well the model will generalize to unseen data, as it evaluates the model's performance on multiple validation sets."
   ]
  },
  {
   "cell_type": "markdown",
   "metadata": {},
   "source": [
    "Optimizing Hyperparameters: Cross-validation can be used to tune hyperparameters by selecting the values that yield the best average performance across multiple validation sets."
   ]
  },
  {
   "cell_type": "markdown",
   "metadata": {},
   "source": [
    "## Steps in Cross-Validation:\n"
   ]
  },
  {
   "cell_type": "markdown",
   "metadata": {},
   "source": [
    "\n",
    "Split Data: Divide the dataset into training and testing sets.\n",
    "\n",
    "Partition Data: Split the training data into K subsets (folds).\n",
    "\n",
    "Train Model: Train the model K times, each time using K-1 folds for training.\n",
    "\n",
    "Evaluate Model: Evaluate the model on the remaining fold (validation set).\n",
    "\n",
    "Compute Performance Metrics: Calculate performance metrics (e.g., accuracy, precision, recall) for each iteration.\n",
    "\n",
    "Average Results: Average the performance metrics across all K iterations to obtain a final estimate of model performance."
   ]
  },
  {
   "cell_type": "markdown",
   "metadata": {},
   "source": [
    "## Types of Cross-Validation:\n"
   ]
  },
  {
   "cell_type": "markdown",
   "metadata": {},
   "source": [
    "\n",
    "K-Fold Cross-Validation: The dataset is divided into K equal-sized folds. The model is trained K times, each time using K-1 folds for training and one fold for validation.\n",
    "\n",
    "Leave-One-Out Cross-Validation (LOOCV): In this extreme case of K-Fold Cross-Validation, K is set to the number of instances in the dataset. This means each instance is used as a validation set separately, and the model is trained on all other instances.\n",
    "\n",
    "Stratified K-Fold Cross-Validation: Ensures that each fold maintains the same class distribution as the original dataset. This is particularly useful for imbalanced datasets.\n",
    "\n",
    "Time Series Cross-Validation: Specifically for time series data, where the validation sets are chosen to respect the temporal order of the data. For instance, in each fold, the validation set consists of data points occurring after the training set.\n",
    "\n",
    "Repeated K-Fold Cross-Validation: The K-Fold Cross-Validation process is repeated multiple times, shuffling the data differently each time, to obtain a more robus"
   ]
  },
  {
   "cell_type": "markdown",
   "metadata": {},
   "source": [
    "# Code"
   ]
  },
  {
   "cell_type": "code",
   "execution_count": 1,
   "metadata": {},
   "outputs": [
    {
     "name": "stdout",
     "output_type": "stream",
     "text": [
      "Accuracy before cross-validation: 1.0\n",
      "Mean cross-validation accuracy: 0.9619047619047618\n"
     ]
    }
   ],
   "source": [
    "import numpy as np\n",
    "from sklearn.datasets import load_iris\n",
    "from sklearn.model_selection import train_test_split, cross_val_score\n",
    "from sklearn.svm import SVC\n",
    "\n",
    "# Load the Iris dataset\n",
    "iris = load_iris()\n",
    "X, y = iris.data, iris.target\n",
    "\n",
    "# Split the data into training and testing sets (70% train, 30% test)\n",
    "X_train, X_test, y_train, y_test = train_test_split(X, y, test_size=0.3, random_state=42)\n",
    "\n",
    "# Initialize the SVM classifier\n",
    "svm_classifier = SVC(kernel='linear', C=1)\n",
    "\n",
    "# Train the classifier on the training data\n",
    "svm_classifier.fit(X_train, y_train)\n",
    "\n",
    "# Evaluate the classifier on the testing data\n",
    "accuracy_before_cv = svm_classifier.score(X_test, y_test)\n",
    "print(\"Accuracy before cross-validation:\", accuracy_before_cv)\n",
    "\n",
    "# Perform 5-fold cross-validation on the training data\n",
    "cv_scores = cross_val_score(svm_classifier, X_train, y_train, cv=5)\n",
    "\n",
    "# Compute the mean cross-validation score\n",
    "mean_cv_score = np.mean(cv_scores)\n",
    "print(\"Mean cross-validation accuracy:\", mean_cv_score)\n"
   ]
  },
  {
   "cell_type": "code",
   "execution_count": 5,
   "metadata": {},
   "outputs": [
    {
     "name": "stdout",
     "output_type": "stream",
     "text": [
      "Cross Validation scores:  [1.         0.95238095 0.9047619  1.         0.95238095]\n"
     ]
    }
   ],
   "source": [
    "print(\"Cross Validation scores: \",cv_scores)"
   ]
  },
  {
   "cell_type": "code",
   "execution_count": null,
   "metadata": {},
   "outputs": [],
   "source": []
  }
 ],
 "metadata": {
  "kernelspec": {
   "display_name": "base",
   "language": "python",
   "name": "python3"
  },
  "language_info": {
   "codemirror_mode": {
    "name": "ipython",
    "version": 3
   },
   "file_extension": ".py",
   "mimetype": "text/x-python",
   "name": "python",
   "nbconvert_exporter": "python",
   "pygments_lexer": "ipython3",
   "version": "3.11.7"
  }
 },
 "nbformat": 4,
 "nbformat_minor": 2
}
